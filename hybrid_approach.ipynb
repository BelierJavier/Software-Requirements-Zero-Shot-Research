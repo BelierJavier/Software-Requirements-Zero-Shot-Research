{
 "cells": [
  {
   "cell_type": "markdown",
   "metadata": {},
   "source": [
    "# Hybrid Zero Shot Learning Approach"
   ]
  },
  {
   "cell_type": "code",
   "execution_count": 1,
   "metadata": {},
   "outputs": [],
   "source": [
    "import pandas as pd\n",
    "import numpy as np"
   ]
  },
  {
   "cell_type": "markdown",
   "metadata": {},
   "source": [
    "<h2>Loading Pre-Trained Models</h2>"
   ]
  },
  {
   "cell_type": "markdown",
   "metadata": {},
   "source": [
    "<h3>Loading BERT4RE</h3>"
   ]
  },
  {
   "cell_type": "code",
   "execution_count": 1,
   "metadata": {},
   "outputs": [
    {
     "name": "stderr",
     "output_type": "stream",
     "text": [
      "Some weights of RobertaModel were not initialized from the model checkpoint at thearod5/bert4re and are newly initialized: ['roberta.pooler.dense.bias', 'roberta.pooler.dense.weight']\n",
      "You should probably TRAIN this model on a down-stream task to be able to use it for predictions and inference.\n"
     ]
    },
    {
     "name": "stdout",
     "output_type": "stream",
     "text": [
      "BERT4RE loaded successfully.\n"
     ]
    }
   ],
   "source": [
    "from transformers import AutoTokenizer, AutoModel\n",
    "\n",
    "# Specify the model name for BERT4RE\n",
    "model_name = \"thearod5/bert4re\"  # Replace with the correct model name or path if needed\n",
    "\n",
    "# Load the tokenizer and model\n",
    "tokenizer = AutoTokenizer.from_pretrained(model_name)\n",
    "bert4re = AutoModel.from_pretrained(model_name)\n",
    "\n",
    "print(\"BERT4RE loaded successfully.\")"
   ]
  },
  {
   "cell_type": "markdown",
   "metadata": {},
   "source": [
    "<h3>Loading SBERT</h3>"
   ]
  },
  {
   "cell_type": "code",
   "execution_count": 3,
   "metadata": {},
   "outputs": [
    {
     "name": "stdout",
     "output_type": "stream",
     "text": [
      "SBERT model loaded successfully.\n"
     ]
    }
   ],
   "source": [
    "from sentence_transformers import SentenceTransformer\n",
    "\n",
    "# Load a pretrained SBERT model\n",
    "model_name = \"paraphrase-mpnet-base-v2\" # Compatible with 768 Dimensions to match BERT4RE\n",
    "sbert = SentenceTransformer(model_name)\n",
    "\n",
    "print(\"SBERT model loaded successfully.\")"
   ]
  },
  {
   "cell_type": "markdown",
   "metadata": {},
   "source": [
    "<h2>Data Preprocessing</h2>"
   ]
  },
  {
   "cell_type": "markdown",
   "metadata": {},
   "source": [
    "<h3>Data Retrieval</h3>"
   ]
  },
  {
   "cell_type": "code",
   "execution_count": 4,
   "metadata": {},
   "outputs": [
    {
     "data": {
      "text/html": [
       "<div>\n",
       "<style scoped>\n",
       "    .dataframe tbody tr th:only-of-type {\n",
       "        vertical-align: middle;\n",
       "    }\n",
       "\n",
       "    .dataframe tbody tr th {\n",
       "        vertical-align: top;\n",
       "    }\n",
       "\n",
       "    .dataframe thead th {\n",
       "        text-align: right;\n",
       "    }\n",
       "</style>\n",
       "<table border=\"1\" class=\"dataframe\">\n",
       "  <thead>\n",
       "    <tr style=\"text-align: right;\">\n",
       "      <th></th>\n",
       "      <th>INPUT</th>\n",
       "      <th>TYPE</th>\n",
       "    </tr>\n",
       "  </thead>\n",
       "  <tbody>\n",
       "    <tr>\n",
       "      <th>0</th>\n",
       "      <td>The system shall refresh the display every 60 ...</td>\n",
       "      <td>PE</td>\n",
       "    </tr>\n",
       "    <tr>\n",
       "      <th>1</th>\n",
       "      <td>The application shall match the color of the s...</td>\n",
       "      <td>LF</td>\n",
       "    </tr>\n",
       "    <tr>\n",
       "      <th>2</th>\n",
       "      <td>If projected  the data must be readable.  On a...</td>\n",
       "      <td>US</td>\n",
       "    </tr>\n",
       "    <tr>\n",
       "      <th>3</th>\n",
       "      <td>The product shall be available during normal b...</td>\n",
       "      <td>A</td>\n",
       "    </tr>\n",
       "    <tr>\n",
       "      <th>4</th>\n",
       "      <td>If projected  the data must be understandable....</td>\n",
       "      <td>US</td>\n",
       "    </tr>\n",
       "  </tbody>\n",
       "</table>\n",
       "</div>"
      ],
      "text/plain": [
       "                                               INPUT TYPE\n",
       "0  The system shall refresh the display every 60 ...   PE\n",
       "1  The application shall match the color of the s...   LF\n",
       "2  If projected  the data must be readable.  On a...   US\n",
       "3  The product shall be available during normal b...    A\n",
       "4  If projected  the data must be understandable....   US"
      ]
     },
     "execution_count": 4,
     "metadata": {},
     "output_type": "execute_result"
    }
   ],
   "source": [
    "# Loading in promise dataset\n",
    "df = pd.read_csv(\"datasets/promise.csv\")\n",
    "\n",
    "df.head()"
   ]
  },
  {
   "cell_type": "markdown",
   "metadata": {},
   "source": [
    "<h3>Re-Labeling</h3>"
   ]
  },
  {
   "cell_type": "code",
   "execution_count": 5,
   "metadata": {},
   "outputs": [
    {
     "data": {
      "text/html": [
       "<div>\n",
       "<style scoped>\n",
       "    .dataframe tbody tr th:only-of-type {\n",
       "        vertical-align: middle;\n",
       "    }\n",
       "\n",
       "    .dataframe tbody tr th {\n",
       "        vertical-align: top;\n",
       "    }\n",
       "\n",
       "    .dataframe thead th {\n",
       "        text-align: right;\n",
       "    }\n",
       "</style>\n",
       "<table border=\"1\" class=\"dataframe\">\n",
       "  <thead>\n",
       "    <tr style=\"text-align: right;\">\n",
       "      <th></th>\n",
       "      <th>INPUT</th>\n",
       "      <th>TYPE</th>\n",
       "    </tr>\n",
       "  </thead>\n",
       "  <tbody>\n",
       "    <tr>\n",
       "      <th>0</th>\n",
       "      <td>The system shall refresh the display every 60 ...</td>\n",
       "      <td>NF</td>\n",
       "    </tr>\n",
       "    <tr>\n",
       "      <th>1</th>\n",
       "      <td>The application shall match the color of the s...</td>\n",
       "      <td>NF</td>\n",
       "    </tr>\n",
       "    <tr>\n",
       "      <th>2</th>\n",
       "      <td>If projected  the data must be readable.  On a...</td>\n",
       "      <td>NF</td>\n",
       "    </tr>\n",
       "    <tr>\n",
       "      <th>3</th>\n",
       "      <td>The product shall be available during normal b...</td>\n",
       "      <td>NF</td>\n",
       "    </tr>\n",
       "    <tr>\n",
       "      <th>4</th>\n",
       "      <td>If projected  the data must be understandable....</td>\n",
       "      <td>NF</td>\n",
       "    </tr>\n",
       "    <tr>\n",
       "      <th>5</th>\n",
       "      <td>The product shall ensure that it can only be a...</td>\n",
       "      <td>NF</td>\n",
       "    </tr>\n",
       "    <tr>\n",
       "      <th>6</th>\n",
       "      <td>The product shall be intuitive and self-explan...</td>\n",
       "      <td>NF</td>\n",
       "    </tr>\n",
       "    <tr>\n",
       "      <th>7</th>\n",
       "      <td>The product shall respond fast to keep up-to-d...</td>\n",
       "      <td>NF</td>\n",
       "    </tr>\n",
       "    <tr>\n",
       "      <th>8</th>\n",
       "      <td>The system shall have a MDI form that allows f...</td>\n",
       "      <td>F</td>\n",
       "    </tr>\n",
       "    <tr>\n",
       "      <th>9</th>\n",
       "      <td>The system shall display Events in a vertical ...</td>\n",
       "      <td>F</td>\n",
       "    </tr>\n",
       "    <tr>\n",
       "      <th>10</th>\n",
       "      <td>The system shall display the Events in a graph...</td>\n",
       "      <td>F</td>\n",
       "    </tr>\n",
       "    <tr>\n",
       "      <th>11</th>\n",
       "      <td>The system shall display Events or Activities.</td>\n",
       "      <td>F</td>\n",
       "    </tr>\n",
       "    <tr>\n",
       "      <th>12</th>\n",
       "      <td>The display shall have two regions:  left 2/3 ...</td>\n",
       "      <td>F</td>\n",
       "    </tr>\n",
       "    <tr>\n",
       "      <th>13</th>\n",
       "      <td>The data displayed in both the nodes within th...</td>\n",
       "      <td>F</td>\n",
       "    </tr>\n",
       "    <tr>\n",
       "      <th>14</th>\n",
       "      <td>The table side of the display shall be split i...</td>\n",
       "      <td>F</td>\n",
       "    </tr>\n",
       "    <tr>\n",
       "      <th>15</th>\n",
       "      <td>The top 1/4 of the table will hold events that...</td>\n",
       "      <td>F</td>\n",
       "    </tr>\n",
       "    <tr>\n",
       "      <th>16</th>\n",
       "      <td>The bottom 3/4 of the table will hold events t...</td>\n",
       "      <td>F</td>\n",
       "    </tr>\n",
       "    <tr>\n",
       "      <th>17</th>\n",
       "      <td>The system shall color code events according t...</td>\n",
       "      <td>F</td>\n",
       "    </tr>\n",
       "    <tr>\n",
       "      <th>18</th>\n",
       "      <td>The system shall display data from the Sync Ma...</td>\n",
       "      <td>F</td>\n",
       "    </tr>\n",
       "    <tr>\n",
       "      <th>19</th>\n",
       "      <td>The system shall link Events back to either th...</td>\n",
       "      <td>F</td>\n",
       "    </tr>\n",
       "  </tbody>\n",
       "</table>\n",
       "</div>"
      ],
      "text/plain": [
       "                                                INPUT TYPE\n",
       "0   The system shall refresh the display every 60 ...   NF\n",
       "1   The application shall match the color of the s...   NF\n",
       "2   If projected  the data must be readable.  On a...   NF\n",
       "3   The product shall be available during normal b...   NF\n",
       "4   If projected  the data must be understandable....   NF\n",
       "5   The product shall ensure that it can only be a...   NF\n",
       "6   The product shall be intuitive and self-explan...   NF\n",
       "7   The product shall respond fast to keep up-to-d...   NF\n",
       "8   The system shall have a MDI form that allows f...    F\n",
       "9   The system shall display Events in a vertical ...    F\n",
       "10  The system shall display the Events in a graph...    F\n",
       "11     The system shall display Events or Activities.    F\n",
       "12  The display shall have two regions:  left 2/3 ...    F\n",
       "13  The data displayed in both the nodes within th...    F\n",
       "14  The table side of the display shall be split i...    F\n",
       "15  The top 1/4 of the table will hold events that...    F\n",
       "16  The bottom 3/4 of the table will hold events t...    F\n",
       "17  The system shall color code events according t...    F\n",
       "18  The system shall display data from the Sync Ma...    F\n",
       "19  The system shall link Events back to either th...    F"
      ]
     },
     "execution_count": 5,
     "metadata": {},
     "output_type": "execute_result"
    }
   ],
   "source": [
    "# Making dataset binary between functional & non-functional requirements\n",
    "\n",
    "df.loc[df['TYPE'] != 'F', 'TYPE'] = 'NF' # Locating all values that do not equal 'F' and changing them to 'NF'\n",
    "\n",
    "df.head(20)"
   ]
  },
  {
   "cell_type": "markdown",
   "metadata": {},
   "source": [
    "<h3>Lowercasing</h3>"
   ]
  },
  {
   "cell_type": "code",
   "execution_count": 6,
   "metadata": {},
   "outputs": [
    {
     "data": {
      "text/html": [
       "<div>\n",
       "<style scoped>\n",
       "    .dataframe tbody tr th:only-of-type {\n",
       "        vertical-align: middle;\n",
       "    }\n",
       "\n",
       "    .dataframe tbody tr th {\n",
       "        vertical-align: top;\n",
       "    }\n",
       "\n",
       "    .dataframe thead th {\n",
       "        text-align: right;\n",
       "    }\n",
       "</style>\n",
       "<table border=\"1\" class=\"dataframe\">\n",
       "  <thead>\n",
       "    <tr style=\"text-align: right;\">\n",
       "      <th></th>\n",
       "      <th>INPUT</th>\n",
       "      <th>TYPE</th>\n",
       "    </tr>\n",
       "  </thead>\n",
       "  <tbody>\n",
       "    <tr>\n",
       "      <th>0</th>\n",
       "      <td>the system shall refresh the display every 60 ...</td>\n",
       "      <td>NF</td>\n",
       "    </tr>\n",
       "    <tr>\n",
       "      <th>1</th>\n",
       "      <td>the application shall match the color of the s...</td>\n",
       "      <td>NF</td>\n",
       "    </tr>\n",
       "    <tr>\n",
       "      <th>2</th>\n",
       "      <td>if projected  the data must be readable.  on a...</td>\n",
       "      <td>NF</td>\n",
       "    </tr>\n",
       "    <tr>\n",
       "      <th>3</th>\n",
       "      <td>the product shall be available during normal b...</td>\n",
       "      <td>NF</td>\n",
       "    </tr>\n",
       "    <tr>\n",
       "      <th>4</th>\n",
       "      <td>if projected  the data must be understandable....</td>\n",
       "      <td>NF</td>\n",
       "    </tr>\n",
       "  </tbody>\n",
       "</table>\n",
       "</div>"
      ],
      "text/plain": [
       "                                               INPUT TYPE\n",
       "0  the system shall refresh the display every 60 ...   NF\n",
       "1  the application shall match the color of the s...   NF\n",
       "2  if projected  the data must be readable.  on a...   NF\n",
       "3  the product shall be available during normal b...   NF\n",
       "4  if projected  the data must be understandable....   NF"
      ]
     },
     "execution_count": 6,
     "metadata": {},
     "output_type": "execute_result"
    }
   ],
   "source": [
    "df['INPUT'] = df['INPUT'].str.lower()\n",
    "\n",
    "df.head()"
   ]
  },
  {
   "cell_type": "markdown",
   "metadata": {},
   "source": [
    "<h3>Stopword Removal</h3>"
   ]
  },
  {
   "cell_type": "code",
   "execution_count": 7,
   "metadata": {},
   "outputs": [
    {
     "data": {
      "text/html": [
       "<div>\n",
       "<style scoped>\n",
       "    .dataframe tbody tr th:only-of-type {\n",
       "        vertical-align: middle;\n",
       "    }\n",
       "\n",
       "    .dataframe tbody tr th {\n",
       "        vertical-align: top;\n",
       "    }\n",
       "\n",
       "    .dataframe thead th {\n",
       "        text-align: right;\n",
       "    }\n",
       "</style>\n",
       "<table border=\"1\" class=\"dataframe\">\n",
       "  <thead>\n",
       "    <tr style=\"text-align: right;\">\n",
       "      <th></th>\n",
       "      <th>INPUT</th>\n",
       "      <th>TYPE</th>\n",
       "    </tr>\n",
       "  </thead>\n",
       "  <tbody>\n",
       "    <tr>\n",
       "      <th>0</th>\n",
       "      <td>system shall refresh display every 60 seconds.</td>\n",
       "      <td>NF</td>\n",
       "    </tr>\n",
       "    <tr>\n",
       "      <th>1</th>\n",
       "      <td>application shall match color schema set forth...</td>\n",
       "      <td>NF</td>\n",
       "    </tr>\n",
       "    <tr>\n",
       "      <th>2</th>\n",
       "      <td>projected data must readable. 10x10 projection...</td>\n",
       "      <td>NF</td>\n",
       "    </tr>\n",
       "    <tr>\n",
       "      <th>3</th>\n",
       "      <td>product shall available normal business hours....</td>\n",
       "      <td>NF</td>\n",
       "    </tr>\n",
       "    <tr>\n",
       "      <th>4</th>\n",
       "      <td>projected data must understandable. 10x10 proj...</td>\n",
       "      <td>NF</td>\n",
       "    </tr>\n",
       "  </tbody>\n",
       "</table>\n",
       "</div>"
      ],
      "text/plain": [
       "                                               INPUT TYPE\n",
       "0     system shall refresh display every 60 seconds.   NF\n",
       "1  application shall match color schema set forth...   NF\n",
       "2  projected data must readable. 10x10 projection...   NF\n",
       "3  product shall available normal business hours....   NF\n",
       "4  projected data must understandable. 10x10 proj...   NF"
      ]
     },
     "execution_count": 7,
     "metadata": {},
     "output_type": "execute_result"
    }
   ],
   "source": [
    "#nltk.download('stopwords')\n",
    "from nltk.corpus import stopwords\n",
    "\n",
    "# Define stop words\n",
    "stop_words = set(stopwords.words('english'))\n",
    "\n",
    "# Function to remove stopwords\n",
    "def remove_stopwords(text):\n",
    "    words = text.split()  # Split the text into words\n",
    "    filtered_text = ' '.join([word for word in words if word.lower() not in stop_words])\n",
    "    return filtered_text\n",
    "\n",
    "# Apply stopword removal to the DataFrame column\n",
    "df['INPUT'] = df['INPUT'].apply(remove_stopwords)\n",
    "\n",
    "df.head()"
   ]
  },
  {
   "cell_type": "markdown",
   "metadata": {},
   "source": [
    "<h3>Punctuation Removal<h3>"
   ]
  },
  {
   "cell_type": "code",
   "execution_count": 8,
   "metadata": {},
   "outputs": [
    {
     "data": {
      "text/html": [
       "<div>\n",
       "<style scoped>\n",
       "    .dataframe tbody tr th:only-of-type {\n",
       "        vertical-align: middle;\n",
       "    }\n",
       "\n",
       "    .dataframe tbody tr th {\n",
       "        vertical-align: top;\n",
       "    }\n",
       "\n",
       "    .dataframe thead th {\n",
       "        text-align: right;\n",
       "    }\n",
       "</style>\n",
       "<table border=\"1\" class=\"dataframe\">\n",
       "  <thead>\n",
       "    <tr style=\"text-align: right;\">\n",
       "      <th></th>\n",
       "      <th>INPUT</th>\n",
       "      <th>TYPE</th>\n",
       "    </tr>\n",
       "  </thead>\n",
       "  <tbody>\n",
       "    <tr>\n",
       "      <th>0</th>\n",
       "      <td>system shall refresh display every 60 seconds</td>\n",
       "      <td>NF</td>\n",
       "    </tr>\n",
       "    <tr>\n",
       "      <th>1</th>\n",
       "      <td>application shall match color schema set forth...</td>\n",
       "      <td>NF</td>\n",
       "    </tr>\n",
       "    <tr>\n",
       "      <th>2</th>\n",
       "      <td>projected data must readable 10x10 projection ...</td>\n",
       "      <td>NF</td>\n",
       "    </tr>\n",
       "    <tr>\n",
       "      <th>3</th>\n",
       "      <td>product shall available normal business hours ...</td>\n",
       "      <td>NF</td>\n",
       "    </tr>\n",
       "    <tr>\n",
       "      <th>4</th>\n",
       "      <td>projected data must understandable 10x10 proje...</td>\n",
       "      <td>NF</td>\n",
       "    </tr>\n",
       "    <tr>\n",
       "      <th>5</th>\n",
       "      <td>product shall ensure accessed authorized users...</td>\n",
       "      <td>NF</td>\n",
       "    </tr>\n",
       "    <tr>\n",
       "      <th>6</th>\n",
       "      <td>product shall intuitive selfexplanatory  90 pe...</td>\n",
       "      <td>NF</td>\n",
       "    </tr>\n",
       "    <tr>\n",
       "      <th>7</th>\n",
       "      <td>product shall respond fast keep uptodate data ...</td>\n",
       "      <td>NF</td>\n",
       "    </tr>\n",
       "    <tr>\n",
       "      <th>8</th>\n",
       "      <td>system shall mdi form allows viewing graph dat...</td>\n",
       "      <td>F</td>\n",
       "    </tr>\n",
       "    <tr>\n",
       "      <th>9</th>\n",
       "      <td>system shall display events vertical table time</td>\n",
       "      <td>F</td>\n",
       "    </tr>\n",
       "    <tr>\n",
       "      <th>10</th>\n",
       "      <td>system shall display events graph time</td>\n",
       "      <td>F</td>\n",
       "    </tr>\n",
       "    <tr>\n",
       "      <th>11</th>\n",
       "      <td>system shall display events activities</td>\n",
       "      <td>F</td>\n",
       "    </tr>\n",
       "    <tr>\n",
       "      <th>12</th>\n",
       "      <td>display shall two regions left 23 display grap...</td>\n",
       "      <td>F</td>\n",
       "    </tr>\n",
       "    <tr>\n",
       "      <th>13</th>\n",
       "      <td>data displayed nodes within graph rows table m...</td>\n",
       "      <td>F</td>\n",
       "    </tr>\n",
       "    <tr>\n",
       "      <th>14</th>\n",
       "      <td>table side display shall split 2 regions seque...</td>\n",
       "      <td>F</td>\n",
       "    </tr>\n",
       "    <tr>\n",
       "      <th>15</th>\n",
       "      <td>top 14 table hold events occur sequentially</td>\n",
       "      <td>F</td>\n",
       "    </tr>\n",
       "    <tr>\n",
       "      <th>16</th>\n",
       "      <td>bottom 34 table hold events occur according re...</td>\n",
       "      <td>F</td>\n",
       "    </tr>\n",
       "    <tr>\n",
       "      <th>17</th>\n",
       "      <td>system shall color code events according varia...</td>\n",
       "      <td>F</td>\n",
       "    </tr>\n",
       "    <tr>\n",
       "      <th>18</th>\n",
       "      <td>system shall display data sync matrix 10 exerc...</td>\n",
       "      <td>F</td>\n",
       "    </tr>\n",
       "    <tr>\n",
       "      <th>19</th>\n",
       "      <td>system shall link events back either sync matr...</td>\n",
       "      <td>F</td>\n",
       "    </tr>\n",
       "  </tbody>\n",
       "</table>\n",
       "</div>"
      ],
      "text/plain": [
       "                                                INPUT TYPE\n",
       "0       system shall refresh display every 60 seconds   NF\n",
       "1   application shall match color schema set forth...   NF\n",
       "2   projected data must readable 10x10 projection ...   NF\n",
       "3   product shall available normal business hours ...   NF\n",
       "4   projected data must understandable 10x10 proje...   NF\n",
       "5   product shall ensure accessed authorized users...   NF\n",
       "6   product shall intuitive selfexplanatory  90 pe...   NF\n",
       "7   product shall respond fast keep uptodate data ...   NF\n",
       "8   system shall mdi form allows viewing graph dat...    F\n",
       "9     system shall display events vertical table time    F\n",
       "10             system shall display events graph time    F\n",
       "11             system shall display events activities    F\n",
       "12  display shall two regions left 23 display grap...    F\n",
       "13  data displayed nodes within graph rows table m...    F\n",
       "14  table side display shall split 2 regions seque...    F\n",
       "15        top 14 table hold events occur sequentially    F\n",
       "16  bottom 34 table hold events occur according re...    F\n",
       "17  system shall color code events according varia...    F\n",
       "18  system shall display data sync matrix 10 exerc...    F\n",
       "19  system shall link events back either sync matr...    F"
      ]
     },
     "execution_count": 8,
     "metadata": {},
     "output_type": "execute_result"
    }
   ],
   "source": [
    "import string\n",
    "\n",
    "# Replacing percent symbol to string\n",
    "df['INPUT'] = df['INPUT'].str.replace('%', ' percent')\n",
    "\n",
    "# Remove punctuation from a specific column (e.g., 'Column1')\n",
    "df['INPUT'] = df['INPUT'].apply(lambda x: x.translate(str.maketrans('', '', string.punctuation)) if isinstance(x, str) else x)\n",
    "\n",
    "df.head(20)"
   ]
  },
  {
   "cell_type": "markdown",
   "metadata": {},
   "source": [
    "<h3>Dataset Proportion</h3>"
   ]
  },
  {
   "cell_type": "code",
   "execution_count": 9,
   "metadata": {},
   "outputs": [
    {
     "name": "stdout",
     "output_type": "stream",
     "text": [
      "Number of Functional (F) requirements: 255\n",
      "Number of Non-Functional (NF) requirements: 370\n"
     ]
    }
   ],
   "source": [
    "# Count the number of F and NF in the dataset\n",
    "label_counts = df['TYPE'].value_counts()\n",
    "\n",
    "print(\"Number of Functional (F) requirements:\", label_counts.get('F', 0))\n",
    "print(\"Number of Non-Functional (NF) requirements:\", label_counts.get('NF', 0))"
   ]
  },
  {
   "cell_type": "code",
   "execution_count": 10,
   "metadata": {},
   "outputs": [
    {
     "data": {
      "image/png": "[encoded data removed]",
      "text/plain": [
       "<Figure size 640x480 with 1 Axes>"
      ]
     },
     "metadata": {},
     "output_type": "display_data"
    }
   ],
   "source": [
    "import matplotlib.pyplot as plt\n",
    "\n",
    "# Plot a bar chart of label distribution\n",
    "label_counts.plot(kind='bar', color=['blue', 'green'])\n",
    "plt.title(\"Label Distribution\")\n",
    "plt.xlabel(\"Requirement Type\")\n",
    "plt.ylabel(\"Count\")\n",
    "plt.xticks(rotation=0)\n",
    "plt.show()"
   ]
  },
  {
   "cell_type": "markdown",
   "metadata": {},
   "source": [
    "<h2>Fine-Tuning SBERT<h2>"
   ]
  },
  {
   "cell_type": "markdown",
   "metadata": {},
   "source": [
    "<h3>SBERT Similarity Pairs</h3>"
   ]
  },
  {
   "cell_type": "code",
   "execution_count": 11,
   "metadata": {},
   "outputs": [],
   "source": [
    "from sentence_transformers import InputExample\n",
    "\n",
    "train_triplets = [\n",
    "    # High similarity (F)\n",
    "    InputExample(texts=[\n",
    "        \"Defines the actions the system must perform to meet user requirements.\",  # Anchor\n",
    "        \"Specifies the user interactions needed to complete specific tasks.\",      # Positive\n",
    "        \"Specifies usability standards to ensure the system is easy to navigate.\"  # Negative\n",
    "    ]),\n",
    "    InputExample(texts=[\n",
    "        \"Outlines workflows required to process data and handle transactions.\",    # Anchor\n",
    "        \"Describes the steps the system follows to respond to user inputs.\",       # Positive\n",
    "        \"Defines constraints for system operations, including memory and storage usage.\"  # Negative\n",
    "    ]),\n",
    "    InputExample(texts=[\n",
    "        \"Specifies how the system interacts with external services or APIs to fulfill tasks.\",  # Anchor\n",
    "        \"Details the operations needed to retrieve and update information in the system.\",      # Positive\n",
    "        \"Specifies how users can perform login tasks through the interface.\"                   # Negative\n",
    "    ]),\n",
    "\n",
    "    # High similarity (NF)\n",
    "    InputExample(texts=[\n",
    "        \"Describes performance benchmarks like response time, throughput, and scalability.\",  # Anchor\n",
    "        \"Specifies conditions for operating the system efficiently under load.\",              # Positive\n",
    "        \"Specifies operations the system performs to process transactions.\"                   # Negative\n",
    "    ]),\n",
    "    InputExample(texts=[\n",
    "        \"Defines security measures to protect user data and system integrity.\",               # Anchor\n",
    "        \"Outlines reliability requirements, such as uptime guarantees and error recovery.\",   # Positive\n",
    "        \"Outlines the steps required to ensure operational safety and compliance.\"            # Negative\n",
    "    ]),\n",
    "\n",
    "    # Moderate similarity\n",
    "    InputExample(texts=[\n",
    "        \"Describes the actions the system must perform to meet user requirements.\",           # Anchor\n",
    "        \"Specifies how the system interacts with external services or APIs to fulfill tasks.\",# Positive\n",
    "        \"Specifies the conditions to ensure the system operates securely and reliably.\"       # Negative\n",
    "    ]),\n",
    "    InputExample(texts=[\n",
    "        \"Details how the application validates user inputs before processing.\",               # Anchor\n",
    "        \"Specifies how the system must interact with users to ensure task completion.\",       # Positive\n",
    "        \"Defines how the system must calculate and process numerical data.\"                  # Negative\n",
    "    ]),\n",
    "\n",
    "    # Low similarity\n",
    "    InputExample(texts=[\n",
    "        \"Defines security measures to protect user data and system integrity.\",               # Anchor\n",
    "        \"Describes how the system processes user-provided information to produce results.\",   # Positive\n",
    "        \"Specifies how users can perform login tasks through the interface.\"                  # Negative\n",
    "    ]),\n",
    "    InputExample(texts=[\n",
    "        \"Describes usability features to enhance the user interface experience.\",             # Anchor\n",
    "        \"Defines the actions the system must perform to meet user requirements.\",             # Positive\n",
    "        \"Ensures database backups occur every 24 hours.\"                                     # Negative\n",
    "    ]),\n",
    "\n",
    "    # Added distinctive pairs\n",
    "    InputExample(texts=[\n",
    "        \"Executes business rules to calculate tax rates on transactions.\",                    # Anchor\n",
    "        \"Implements logic to apply discounts and additional fees during payment processing.\", # Positive\n",
    "        \"Describes strategies for ensuring uptime during system maintenance.\"                 # Negative\n",
    "    ]),\n",
    "    InputExample(texts=[\n",
    "        \"Ensures system throughput meets 100 transactions per second under peak load.\",       # Anchor\n",
    "        \"Specifies memory consumption limits to maintain system responsiveness.\",             # Positive\n",
    "        \"Outlines procedures to restore services in under 10 minutes after a crash.\"          # Negative\n",
    "    ])\n",
    "]"
   ]
  },
  {
   "cell_type": "markdown",
   "metadata": {},
   "source": [
    "<h3>SBERT Tuning</h3>"
   ]
  },
  {
   "cell_type": "code",
   "execution_count": 12,
   "metadata": {},
   "outputs": [
    {
     "data": {
      "text/html": [
       "\n",
       "    <div>\n",
       "      \n",
       "      <progress value='20' max='20' style='width:300px; height:20px; vertical-align: middle;'></progress>\n",
       "      [20/20 01:19, Epoch 20/20]\n",
       "    </div>\n",
       "    <table border=\"1\" class=\"dataframe\">\n",
       "  <thead>\n",
       " <tr style=\"text-align: left;\">\n",
       "      <th>Step</th>\n",
       "      <th>Training Loss</th>\n",
       "    </tr>\n",
       "  </thead>\n",
       "  <tbody>\n",
       "  </tbody>\n",
       "</table><p>"
      ],
      "text/plain": [
       "<IPython.core.display.HTML object>"
      ]
     },
     "metadata": {},
     "output_type": "display_data"
    },
    {
     "data": {
      "application/vnd.jupyter.widget-view+json": {
       "model_id": "c402d9929554429ab4e76699da80539a",
       "version_major": 2,
       "version_minor": 0
      },
      "text/plain": [
       "Computing widget examples:   0%|          | 0/1 [00:00<?, ?example/s]"
      ]
     },
     "metadata": {},
     "output_type": "display_data"
    }
   ],
   "source": [
    "from sentence_transformers import losses\n",
    "from torch.utils.data import DataLoader\n",
    "\n",
    "# Prepare train set (assuming train_triplets is already prepared)\n",
    "train_dataloader = DataLoader(train_triplets, shuffle=True, batch_size=16)\n",
    "\n",
    "# Define triplet loss\n",
    "triplet_loss = losses.TripletLoss(\n",
    "    model=sbert, \n",
    "    distance_metric=losses.SiameseDistanceMetric.COSINE_DISTANCE\n",
    ")\n",
    "\n",
    "# Fine-tune the SBERT model\n",
    "sbert.fit(\n",
    "    train_objectives=[(train_dataloader, triplet_loss)],\n",
    "    epochs=20,  # Adjust as needed\n",
    "    warmup_steps=100,  # Adjust as needed\n",
    "    output_path=\"./tuned_sbert\",  # Path to save the model\n",
    "    show_progress_bar=True\n",
    ")\n",
    "\n",
    "# Save the fine-tuned model\n",
    "sbert.save(\"./tuned_sbert\")\n"
   ]
  },
  {
   "cell_type": "markdown",
   "metadata": {},
   "source": [
    "<h3>Loading Tuned SBERT</h3>"
   ]
  },
  {
   "cell_type": "code",
   "execution_count": 13,
   "metadata": {},
   "outputs": [
    {
     "name": "stdout",
     "output_type": "stream",
     "text": [
      "Fine-tuned SBERT model loaded successfully.\n"
     ]
    }
   ],
   "source": [
    "# Path to the fine-tuned model\n",
    "model_path = \"./tuned_sbert\"\n",
    "\n",
    "# Load the fine-tuned model\n",
    "tuned_sbert = SentenceTransformer(model_path)\n",
    "print(\"Fine-tuned SBERT model loaded successfully.\")"
   ]
  },
  {
   "cell_type": "markdown",
   "metadata": {},
   "source": [
    "<h3>Label Descriptions</h3>"
   ]
  },
  {
   "cell_type": "code",
   "execution_count": 14,
   "metadata": {},
   "outputs": [],
   "source": [
    "# Label descriptions for Functional and Non-Functional\n",
    "\n",
    "label_descriptions = {\n",
    "    \"F\": [\n",
    "        \"Defines the specific steps the system takes to process user inputs.\",\n",
    "        \"Outlines the workflows needed to complete user-requested tasks.\",\n",
    "        \"Specifies operations the system performs to deliver its core functionality.\",\n",
    "        \"Describes actions required to retrieve and update data in response to user commands.\"\n",
    "    ],\n",
    "    \"NF\": [\n",
    "        \"Defines performance benchmarks for reliability, speed, and scalability.\",\n",
    "        \"Specifies the maximum allowable downtime during maintenance periods.\",\n",
    "        \"Describes constraints on memory usage under normal and peak conditions.\",\n",
    "        \"Ensures data is processed within predefined latency benchmarks.\",\n",
    "    ]\n",
    "}"
   ]
  },
  {
   "cell_type": "markdown",
   "metadata": {},
   "source": [
    "<h3>SBERT Label Description Embeddings</h3>"
   ]
  },
  {
   "cell_type": "code",
   "execution_count": 15,
   "metadata": {},
   "outputs": [
    {
     "name": "stdout",
     "output_type": "stream",
     "text": [
      "Mean intra-label cosine similarity for F: 0.6011\n",
      "Mean intra-label cosine similarity for NF: 0.3949\n",
      "\n",
      "Cosine similarity between SBERT F and NF embeddings: 0.3610\n"
     ]
    }
   ],
   "source": [
    "import torch\n",
    "import torch.nn.functional as F\n",
    "from sklearn.metrics.pairwise import cosine_similarity\n",
    "\n",
    "device = torch.device(\"cuda\" if torch.cuda.is_available() else \"cpu\")\n",
    "\n",
    "# Compute SBERT embeddings for each label description\n",
    "sbert_label_embeddings = {\n",
    "    label: [tuned_sbert.encode(desc, convert_to_tensor=True).to(device) for desc in descriptions]\n",
    "    for label, descriptions in label_descriptions.items()\n",
    "}\n",
    "\n",
    "# Calculate intra-label cosine similarities\n",
    "intra_label_similarity = {}\n",
    "\n",
    "for label, embeddings in sbert_label_embeddings.items():\n",
    "    # Convert embeddings to numpy arrays\n",
    "    embeddings_np = [embedding.detach().cpu().numpy() for embedding in embeddings]\n",
    "    \n",
    "    # Compute pairwise cosine similarities\n",
    "    pairwise_sim = cosine_similarity(embeddings_np)\n",
    "    \n",
    "    # Extract the upper triangle of the similarity matrix (excluding diagonal)\n",
    "    upper_triangle = pairwise_sim[np.triu_indices_from(pairwise_sim, k=1)]\n",
    "    \n",
    "    # Compute the mean similarity for the label\n",
    "    intra_label_similarity[label] = upper_triangle.mean()\n",
    "\n",
    "    print(f\"Mean intra-label cosine similarity for {label}: {intra_label_similarity[label]:.4f}\")\n",
    "\n",
    "# Compute inter-label cosine similarity (F vs NF)\n",
    "f_embedding = torch.stack(sbert_label_embeddings[\"F\"]).mean(dim=0).detach().cpu().numpy()\n",
    "nf_embedding = torch.stack(sbert_label_embeddings[\"NF\"]).mean(dim=0).detach().cpu().numpy()\n",
    "cos_sim_inter = cosine_similarity([f_embedding], [nf_embedding])[0][0]\n",
    "\n",
    "print(f\"\\nCosine similarity between SBERT F and NF embeddings: {cos_sim_inter:.4f}\")\n"
   ]
  },
  {
   "cell_type": "markdown",
   "metadata": {},
   "source": [
    "<h3>Visualizing SBERT Embedding Space</h3>"
   ]
  },
  {
   "cell_type": "code",
   "execution_count": 16,
   "metadata": {},
   "outputs": [
    {
     "data": {
      "image/png": "[encoded data removed]",
      "text/plain": [
       "<Figure size 800x600 with 1 Axes>"
      ]
     },
     "metadata": {},
     "output_type": "display_data"
    }
   ],
   "source": [
    "from sklearn.decomposition import PCA\n",
    "import matplotlib.pyplot as plt\n",
    "\n",
    "# Combine F and NF embeddings\n",
    "combined_embeddings = [emb.detach().cpu().numpy() for emb in sbert_label_embeddings[\"F\"]] + \\\n",
    "                      [emb.detach().cpu().numpy() for emb in sbert_label_embeddings[\"NF\"]]\n",
    "labels = [\"F\"] * len(sbert_label_embeddings[\"F\"]) + [\"NF\"] * len(sbert_label_embeddings[\"NF\"])\n",
    "\n",
    "# Reduce dimensions to 2D using PCA\n",
    "pca = PCA(n_components=2)\n",
    "reduced_embeddings = pca.fit_transform(combined_embeddings)\n",
    "\n",
    "# Plot the embeddings\n",
    "plt.figure(figsize=(8, 6))\n",
    "for label in set(labels):\n",
    "    indices = [i for i, l in enumerate(labels) if l == label]\n",
    "    plt.scatter(reduced_embeddings[indices, 0], reduced_embeddings[indices, 1], label=label)\n",
    "plt.legend()\n",
    "plt.title(\"2D Projection of Label Descriptions\")\n",
    "plt.show()"
   ]
  },
  {
   "cell_type": "markdown",
   "metadata": {},
   "source": [
    "<h3>BERT4RE Requirements Embeddings</h3>"
   ]
  },
  {
   "cell_type": "code",
   "execution_count": null,
   "metadata": {},
   "outputs": [
    {
     "name": "stdout",
     "output_type": "stream",
     "text": [
      "BERT4RE Requirement Embeddings Generated\n"
     ]
    }
   ],
   "source": [
    "# Split dataset into Functional and Non-Functional\n",
    "\n",
    "functional_requirements = df[df['TYPE'] == 'F']\n",
    "non_functional_requirements = df[df['TYPE'] == 'NF']\n",
    "\n",
    "functional_embeddings = []\n",
    "non_functional_embeddings = []\n",
    "\n",
    "for text in functional_requirements['INPUT']:\n",
    "    inputs = tokenizer(text, return_tensors=\"pt\", padding=True, truncation=True, max_length=512).to(device)\n",
    "    with torch.no_grad():\n",
    "        bert4re_embedding = bert4re(**inputs).last_hidden_state[:, 0, :]  # CLS pooling\n",
    "        functional_embeddings.append(bert4re_embedding.cpu())\n",
    "\n",
    "for text in non_functional_requirements['INPUT']:\n",
    "    inputs = tokenizer(text, return_tensors=\"pt\", padding=True, truncation=True, max_length=512).to(device)\n",
    "    with torch.no_grad():\n",
    "        bert4re_embedding = bert4re(**inputs).last_hidden_state[:, 0, :]  # CLS pooling\n",
    "        non_functional_embeddings.append(bert4re_embedding.cpu())\n",
    "\n",
    "# Stack embeddings into tensors\n",
    "functional_embeddings = torch.stack(functional_embeddings)\n",
    "non_functional_embeddings = torch.stack(non_functional_embeddings)\n",
    "\n",
    "print(\"BERT4RE Requirement Embeddings Generated\")"
   ]
  },
  {
   "cell_type": "markdown",
   "metadata": {},
   "source": [
    "<h3>Normalization</h3>"
   ]
  },
  {
   "cell_type": "code",
   "execution_count": 21,
   "metadata": {},
   "outputs": [],
   "source": [
    "# Normalize embeddings to unit vectors\n",
    "functional_embeddings = torch.nn.functional.normalize(functional_embeddings, p=2, dim=1)\n",
    "non_functional_embeddings = torch.nn.functional.normalize(non_functional_embeddings, p=2, dim=1)"
   ]
  },
  {
   "cell_type": "markdown",
   "metadata": {},
   "source": [
    "<h2>Model Evaluation & Accuracy</h2>"
   ]
  },
  {
   "cell_type": "code",
   "execution_count": null,
   "metadata": {},
   "outputs": [
    {
     "name": "stderr",
     "output_type": "stream",
     "text": [
      "/tmp/ipykernel_79617/1274412600.py:8: UserWarning: To copy construct from a tensor, it is recommended to use sourceTensor.clone().detach() or sourceTensor.clone().detach().requires_grad_(True), rather than torch.tensor(sourceTensor).\n",
      "  functional_embeddings = torch.stack([torch.tensor(embed) for embed in functional_embeddings])\n",
      "/tmp/ipykernel_79617/1274412600.py:9: UserWarning: To copy construct from a tensor, it is recommended to use sourceTensor.clone().detach() or sourceTensor.clone().detach().requires_grad_(True), rather than torch.tensor(sourceTensor).\n",
      "  non_functional_embeddings = torch.stack([torch.tensor(embed) for embed in non_functional_embeddings])\n"
     ]
    },
    {
     "name": "stdout",
     "output_type": "stream",
     "text": [
      "Accuracy: 0.4368\n",
      "Classification Report:\n",
      "              precision    recall  f1-score   support\n",
      "\n",
      "           F       0.42      0.97      0.58       255\n",
      "          NF       0.78      0.07      0.12       370\n",
      "\n",
      "    accuracy                           0.44       625\n",
      "   macro avg       0.60      0.52      0.35       625\n",
      "weighted avg       0.63      0.44      0.31       625\n",
      "\n"
     ]
    }
   ],
   "source": [
    "from sklearn.metrics import classification_report, accuracy_score\n",
    "\n",
    "# Ensure functional_embeddings and non_functional_embeddings are tensors\n",
    "functional_embeddings = torch.stack([embed.clone().detach() for embed in functional_embeddings])\n",
    "non_functional_embeddings = torch.stack([embed.clone().detach() for embed in non_functional_embeddings])\n",
    "\n",
    "# Ensure functional_embeddings and non_functional_embeddings are tensors\n",
    "functional_embeddings = torch.stack([torch.tensor(embed) for embed in functional_embeddings])\n",
    "non_functional_embeddings = torch.stack([torch.tensor(embed) for embed in non_functional_embeddings])\n",
    "\n",
    "# Ensure that sbert_label_embeddings values are tensors\n",
    "label_embeddings = {\n",
    "    label: torch.mean(torch.stack(embs), dim=0).detach().numpy()  # Stack, average, and convert to numpy\n",
    "    if isinstance(embs, list) else embs.detach().numpy()\n",
    "    for label, embs in sbert_label_embeddings.items()\n",
    "}\n",
    "\n",
    "# Combine BERT4RE embeddings for Functional and Non-Functional\n",
    "all_embeddings = torch.cat([functional_embeddings, non_functional_embeddings], dim=0).detach().numpy()\n",
    "true_labels = ['F'] * len(functional_embeddings) + ['NF'] * len(non_functional_embeddings)\n",
    "\n",
    "# Classification using cosine similarity\n",
    "predictions = []\n",
    "for embedding in all_embeddings:\n",
    "    # Compute similarity with SBERT label embeddings\n",
    "    f_similarity = cosine_similarity(embedding.reshape(1, -1), label_embeddings['F'].reshape(1, -1))[0][0]\n",
    "    nf_similarity = cosine_similarity(embedding.reshape(1, -1), label_embeddings['NF'].reshape(1, -1))[0][0]\n",
    "\n",
    "    # Predict class based on higher similarity\n",
    "    if f_similarity > nf_similarity:\n",
    "        predictions.append('F')\n",
    "    else:\n",
    "        predictions.append('NF')\n",
    "\n",
    "# Evaluate the results\n",
    "accuracy = accuracy_score(true_labels, predictions)\n",
    "classification_results = classification_report(true_labels, predictions, target_names=['F', 'NF'])\n",
    "\n",
    "# Print results\n",
    "print(f\"Accuracy: {accuracy:.4f}\")\n",
    "print(\"Classification Report:\")\n",
    "print(classification_results)\n"
   ]
  }
 ],
 "metadata": {
  "kernelspec": {
   "display_name": ".venv",
   "language": "python",
   "name": "python3"
  },
  "language_info": {
   "codemirror_mode": {
    "name": "ipython",
    "version": 3
   },
   "file_extension": ".py",
   "mimetype": "text/x-python",
   "name": "python",
   "nbconvert_exporter": "python",
   "pygments_lexer": "ipython3",
   "version": "3.12.1"
  }
 },
 "nbformat": 4,
 "nbformat_minor": 2
}
