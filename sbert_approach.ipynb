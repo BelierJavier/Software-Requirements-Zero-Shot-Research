{
 "cells": [
  {
   "cell_type": "markdown",
   "metadata": {},
   "source": [
    "# SBERT Zero Shot Learning Approach"
   ]
  },
  {
   "cell_type": "code",
   "execution_count": 1,
   "metadata": {},
   "outputs": [],
   "source": [
    "import pandas as pd\n",
    "import numpy as np"
   ]
  },
  {
   "cell_type": "markdown",
   "metadata": {},
   "source": [
    "<h2>Loading SBERT</h2>"
   ]
  },
  {
   "cell_type": "code",
   "execution_count": 2,
   "metadata": {},
   "outputs": [
    {
     "name": "stdout",
     "output_type": "stream",
     "text": [
      "SBERT model loaded successfully.\n"
     ]
    }
   ],
   "source": [
    "from sentence_transformers import SentenceTransformer\n",
    "\n",
    "# Load a pretrained SBERT model\n",
    "model_name = \"paraphrase-mpnet-base-v2\" # Compatible with 768 Dimensions to match BERT4RE\n",
    "sbert = SentenceTransformer(model_name)\n",
    "\n",
    "print(\"SBERT model loaded successfully.\")"
   ]
  },
  {
   "cell_type": "markdown",
   "metadata": {},
   "source": [
    "<h2>Data Preprocessing</h2>"
   ]
  },
  {
   "cell_type": "code",
   "execution_count": 3,
   "metadata": {},
   "outputs": [
    {
     "data": {
      "text/html": [
       "<div>\n",
       "<style scoped>\n",
       "    .dataframe tbody tr th:only-of-type {\n",
       "        vertical-align: middle;\n",
       "    }\n",
       "\n",
       "    .dataframe tbody tr th {\n",
       "        vertical-align: top;\n",
       "    }\n",
       "\n",
       "    .dataframe thead th {\n",
       "        text-align: right;\n",
       "    }\n",
       "</style>\n",
       "<table border=\"1\" class=\"dataframe\">\n",
       "  <thead>\n",
       "    <tr style=\"text-align: right;\">\n",
       "      <th></th>\n",
       "      <th>INPUT</th>\n",
       "      <th>TYPE</th>\n",
       "    </tr>\n",
       "  </thead>\n",
       "  <tbody>\n",
       "    <tr>\n",
       "      <th>0</th>\n",
       "      <td>The system shall refresh the display every 60 ...</td>\n",
       "      <td>PE</td>\n",
       "    </tr>\n",
       "    <tr>\n",
       "      <th>1</th>\n",
       "      <td>The application shall match the color of the s...</td>\n",
       "      <td>LF</td>\n",
       "    </tr>\n",
       "    <tr>\n",
       "      <th>2</th>\n",
       "      <td>If projected  the data must be readable.  On a...</td>\n",
       "      <td>US</td>\n",
       "    </tr>\n",
       "    <tr>\n",
       "      <th>3</th>\n",
       "      <td>The product shall be available during normal b...</td>\n",
       "      <td>A</td>\n",
       "    </tr>\n",
       "    <tr>\n",
       "      <th>4</th>\n",
       "      <td>If projected  the data must be understandable....</td>\n",
       "      <td>US</td>\n",
       "    </tr>\n",
       "  </tbody>\n",
       "</table>\n",
       "</div>"
      ],
      "text/plain": [
       "                                               INPUT TYPE\n",
       "0  The system shall refresh the display every 60 ...   PE\n",
       "1  The application shall match the color of the s...   LF\n",
       "2  If projected  the data must be readable.  On a...   US\n",
       "3  The product shall be available during normal b...    A\n",
       "4  If projected  the data must be understandable....   US"
      ]
     },
     "execution_count": 3,
     "metadata": {},
     "output_type": "execute_result"
    }
   ],
   "source": [
    "# Loading in promise dataset\n",
    "df = pd.read_csv(\"datasets/promise.csv\")\n",
    "\n",
    "df.head()"
   ]
  },
  {
   "cell_type": "markdown",
   "metadata": {},
   "source": [
    "<h3>Re-Labeling</h3>"
   ]
  },
  {
   "cell_type": "code",
   "execution_count": 4,
   "metadata": {},
   "outputs": [
    {
     "data": {
      "text/html": [
       "<div>\n",
       "<style scoped>\n",
       "    .dataframe tbody tr th:only-of-type {\n",
       "        vertical-align: middle;\n",
       "    }\n",
       "\n",
       "    .dataframe tbody tr th {\n",
       "        vertical-align: top;\n",
       "    }\n",
       "\n",
       "    .dataframe thead th {\n",
       "        text-align: right;\n",
       "    }\n",
       "</style>\n",
       "<table border=\"1\" class=\"dataframe\">\n",
       "  <thead>\n",
       "    <tr style=\"text-align: right;\">\n",
       "      <th></th>\n",
       "      <th>INPUT</th>\n",
       "      <th>TYPE</th>\n",
       "    </tr>\n",
       "  </thead>\n",
       "  <tbody>\n",
       "    <tr>\n",
       "      <th>0</th>\n",
       "      <td>The system shall refresh the display every 60 ...</td>\n",
       "      <td>NF</td>\n",
       "    </tr>\n",
       "    <tr>\n",
       "      <th>1</th>\n",
       "      <td>The application shall match the color of the s...</td>\n",
       "      <td>NF</td>\n",
       "    </tr>\n",
       "    <tr>\n",
       "      <th>2</th>\n",
       "      <td>If projected  the data must be readable.  On a...</td>\n",
       "      <td>NF</td>\n",
       "    </tr>\n",
       "    <tr>\n",
       "      <th>3</th>\n",
       "      <td>The product shall be available during normal b...</td>\n",
       "      <td>NF</td>\n",
       "    </tr>\n",
       "    <tr>\n",
       "      <th>4</th>\n",
       "      <td>If projected  the data must be understandable....</td>\n",
       "      <td>NF</td>\n",
       "    </tr>\n",
       "    <tr>\n",
       "      <th>5</th>\n",
       "      <td>The product shall ensure that it can only be a...</td>\n",
       "      <td>NF</td>\n",
       "    </tr>\n",
       "    <tr>\n",
       "      <th>6</th>\n",
       "      <td>The product shall be intuitive and self-explan...</td>\n",
       "      <td>NF</td>\n",
       "    </tr>\n",
       "    <tr>\n",
       "      <th>7</th>\n",
       "      <td>The product shall respond fast to keep up-to-d...</td>\n",
       "      <td>NF</td>\n",
       "    </tr>\n",
       "    <tr>\n",
       "      <th>8</th>\n",
       "      <td>The system shall have a MDI form that allows f...</td>\n",
       "      <td>F</td>\n",
       "    </tr>\n",
       "    <tr>\n",
       "      <th>9</th>\n",
       "      <td>The system shall display Events in a vertical ...</td>\n",
       "      <td>F</td>\n",
       "    </tr>\n",
       "    <tr>\n",
       "      <th>10</th>\n",
       "      <td>The system shall display the Events in a graph...</td>\n",
       "      <td>F</td>\n",
       "    </tr>\n",
       "    <tr>\n",
       "      <th>11</th>\n",
       "      <td>The system shall display Events or Activities.</td>\n",
       "      <td>F</td>\n",
       "    </tr>\n",
       "    <tr>\n",
       "      <th>12</th>\n",
       "      <td>The display shall have two regions:  left 2/3 ...</td>\n",
       "      <td>F</td>\n",
       "    </tr>\n",
       "    <tr>\n",
       "      <th>13</th>\n",
       "      <td>The data displayed in both the nodes within th...</td>\n",
       "      <td>F</td>\n",
       "    </tr>\n",
       "    <tr>\n",
       "      <th>14</th>\n",
       "      <td>The table side of the display shall be split i...</td>\n",
       "      <td>F</td>\n",
       "    </tr>\n",
       "    <tr>\n",
       "      <th>15</th>\n",
       "      <td>The top 1/4 of the table will hold events that...</td>\n",
       "      <td>F</td>\n",
       "    </tr>\n",
       "    <tr>\n",
       "      <th>16</th>\n",
       "      <td>The bottom 3/4 of the table will hold events t...</td>\n",
       "      <td>F</td>\n",
       "    </tr>\n",
       "    <tr>\n",
       "      <th>17</th>\n",
       "      <td>The system shall color code events according t...</td>\n",
       "      <td>F</td>\n",
       "    </tr>\n",
       "    <tr>\n",
       "      <th>18</th>\n",
       "      <td>The system shall display data from the Sync Ma...</td>\n",
       "      <td>F</td>\n",
       "    </tr>\n",
       "    <tr>\n",
       "      <th>19</th>\n",
       "      <td>The system shall link Events back to either th...</td>\n",
       "      <td>F</td>\n",
       "    </tr>\n",
       "  </tbody>\n",
       "</table>\n",
       "</div>"
      ],
      "text/plain": [
       "                                                INPUT TYPE\n",
       "0   The system shall refresh the display every 60 ...   NF\n",
       "1   The application shall match the color of the s...   NF\n",
       "2   If projected  the data must be readable.  On a...   NF\n",
       "3   The product shall be available during normal b...   NF\n",
       "4   If projected  the data must be understandable....   NF\n",
       "5   The product shall ensure that it can only be a...   NF\n",
       "6   The product shall be intuitive and self-explan...   NF\n",
       "7   The product shall respond fast to keep up-to-d...   NF\n",
       "8   The system shall have a MDI form that allows f...    F\n",
       "9   The system shall display Events in a vertical ...    F\n",
       "10  The system shall display the Events in a graph...    F\n",
       "11     The system shall display Events or Activities.    F\n",
       "12  The display shall have two regions:  left 2/3 ...    F\n",
       "13  The data displayed in both the nodes within th...    F\n",
       "14  The table side of the display shall be split i...    F\n",
       "15  The top 1/4 of the table will hold events that...    F\n",
       "16  The bottom 3/4 of the table will hold events t...    F\n",
       "17  The system shall color code events according t...    F\n",
       "18  The system shall display data from the Sync Ma...    F\n",
       "19  The system shall link Events back to either th...    F"
      ]
     },
     "execution_count": 4,
     "metadata": {},
     "output_type": "execute_result"
    }
   ],
   "source": [
    "# Making dataset binary between functional & non-functional requirements\n",
    "\n",
    "df.loc[df['TYPE'] != 'F', 'TYPE'] = 'NF' # Locating all values that do not equal 'F' and changing them to 'NF'\n",
    "\n",
    "df.head(20)"
   ]
  },
  {
   "cell_type": "markdown",
   "metadata": {},
   "source": [
    "<h3>Lowercasing</h3>"
   ]
  },
  {
   "cell_type": "code",
   "execution_count": 5,
   "metadata": {},
   "outputs": [
    {
     "data": {
      "text/html": [
       "<div>\n",
       "<style scoped>\n",
       "    .dataframe tbody tr th:only-of-type {\n",
       "        vertical-align: middle;\n",
       "    }\n",
       "\n",
       "    .dataframe tbody tr th {\n",
       "        vertical-align: top;\n",
       "    }\n",
       "\n",
       "    .dataframe thead th {\n",
       "        text-align: right;\n",
       "    }\n",
       "</style>\n",
       "<table border=\"1\" class=\"dataframe\">\n",
       "  <thead>\n",
       "    <tr style=\"text-align: right;\">\n",
       "      <th></th>\n",
       "      <th>INPUT</th>\n",
       "      <th>TYPE</th>\n",
       "    </tr>\n",
       "  </thead>\n",
       "  <tbody>\n",
       "    <tr>\n",
       "      <th>0</th>\n",
       "      <td>the system shall refresh the display every 60 ...</td>\n",
       "      <td>NF</td>\n",
       "    </tr>\n",
       "    <tr>\n",
       "      <th>1</th>\n",
       "      <td>the application shall match the color of the s...</td>\n",
       "      <td>NF</td>\n",
       "    </tr>\n",
       "    <tr>\n",
       "      <th>2</th>\n",
       "      <td>if projected  the data must be readable.  on a...</td>\n",
       "      <td>NF</td>\n",
       "    </tr>\n",
       "    <tr>\n",
       "      <th>3</th>\n",
       "      <td>the product shall be available during normal b...</td>\n",
       "      <td>NF</td>\n",
       "    </tr>\n",
       "    <tr>\n",
       "      <th>4</th>\n",
       "      <td>if projected  the data must be understandable....</td>\n",
       "      <td>NF</td>\n",
       "    </tr>\n",
       "  </tbody>\n",
       "</table>\n",
       "</div>"
      ],
      "text/plain": [
       "                                               INPUT TYPE\n",
       "0  the system shall refresh the display every 60 ...   NF\n",
       "1  the application shall match the color of the s...   NF\n",
       "2  if projected  the data must be readable.  on a...   NF\n",
       "3  the product shall be available during normal b...   NF\n",
       "4  if projected  the data must be understandable....   NF"
      ]
     },
     "execution_count": 5,
     "metadata": {},
     "output_type": "execute_result"
    }
   ],
   "source": [
    "df['INPUT'] = df['INPUT'].str.lower()\n",
    "\n",
    "df.head()"
   ]
  },
  {
   "cell_type": "markdown",
   "metadata": {},
   "source": [
    "<h3>Stopword Removal</h3>"
   ]
  },
  {
   "cell_type": "code",
   "execution_count": 6,
   "metadata": {},
   "outputs": [
    {
     "data": {
      "text/html": [
       "<div>\n",
       "<style scoped>\n",
       "    .dataframe tbody tr th:only-of-type {\n",
       "        vertical-align: middle;\n",
       "    }\n",
       "\n",
       "    .dataframe tbody tr th {\n",
       "        vertical-align: top;\n",
       "    }\n",
       "\n",
       "    .dataframe thead th {\n",
       "        text-align: right;\n",
       "    }\n",
       "</style>\n",
       "<table border=\"1\" class=\"dataframe\">\n",
       "  <thead>\n",
       "    <tr style=\"text-align: right;\">\n",
       "      <th></th>\n",
       "      <th>INPUT</th>\n",
       "      <th>TYPE</th>\n",
       "    </tr>\n",
       "  </thead>\n",
       "  <tbody>\n",
       "    <tr>\n",
       "      <th>0</th>\n",
       "      <td>system shall refresh display every 60 seconds.</td>\n",
       "      <td>NF</td>\n",
       "    </tr>\n",
       "    <tr>\n",
       "      <th>1</th>\n",
       "      <td>application shall match color schema set forth...</td>\n",
       "      <td>NF</td>\n",
       "    </tr>\n",
       "    <tr>\n",
       "      <th>2</th>\n",
       "      <td>projected data must readable. 10x10 projection...</td>\n",
       "      <td>NF</td>\n",
       "    </tr>\n",
       "    <tr>\n",
       "      <th>3</th>\n",
       "      <td>product shall available normal business hours....</td>\n",
       "      <td>NF</td>\n",
       "    </tr>\n",
       "    <tr>\n",
       "      <th>4</th>\n",
       "      <td>projected data must understandable. 10x10 proj...</td>\n",
       "      <td>NF</td>\n",
       "    </tr>\n",
       "  </tbody>\n",
       "</table>\n",
       "</div>"
      ],
      "text/plain": [
       "                                               INPUT TYPE\n",
       "0     system shall refresh display every 60 seconds.   NF\n",
       "1  application shall match color schema set forth...   NF\n",
       "2  projected data must readable. 10x10 projection...   NF\n",
       "3  product shall available normal business hours....   NF\n",
       "4  projected data must understandable. 10x10 proj...   NF"
      ]
     },
     "execution_count": 6,
     "metadata": {},
     "output_type": "execute_result"
    }
   ],
   "source": [
    "#nltk.download('stopwords')\n",
    "from nltk.corpus import stopwords\n",
    "\n",
    "# Define stop words\n",
    "stop_words = set(stopwords.words('english'))\n",
    "\n",
    "# Function to remove stopwords\n",
    "def remove_stopwords(text):\n",
    "    words = text.split()  # Split the text into words\n",
    "    filtered_text = ' '.join([word for word in words if word.lower() not in stop_words])\n",
    "    return filtered_text\n",
    "\n",
    "# Apply stopword removal to the DataFrame column\n",
    "df['INPUT'] = df['INPUT'].apply(remove_stopwords)\n",
    "\n",
    "df.head()"
   ]
  },
  {
   "cell_type": "markdown",
   "metadata": {},
   "source": [
    "<h3>Punctuation Removal<h3>"
   ]
  },
  {
   "cell_type": "code",
   "execution_count": 7,
   "metadata": {},
   "outputs": [
    {
     "data": {
      "text/html": [
       "<div>\n",
       "<style scoped>\n",
       "    .dataframe tbody tr th:only-of-type {\n",
       "        vertical-align: middle;\n",
       "    }\n",
       "\n",
       "    .dataframe tbody tr th {\n",
       "        vertical-align: top;\n",
       "    }\n",
       "\n",
       "    .dataframe thead th {\n",
       "        text-align: right;\n",
       "    }\n",
       "</style>\n",
       "<table border=\"1\" class=\"dataframe\">\n",
       "  <thead>\n",
       "    <tr style=\"text-align: right;\">\n",
       "      <th></th>\n",
       "      <th>INPUT</th>\n",
       "      <th>TYPE</th>\n",
       "    </tr>\n",
       "  </thead>\n",
       "  <tbody>\n",
       "    <tr>\n",
       "      <th>0</th>\n",
       "      <td>system shall refresh display every 60 seconds</td>\n",
       "      <td>NF</td>\n",
       "    </tr>\n",
       "    <tr>\n",
       "      <th>1</th>\n",
       "      <td>application shall match color schema set forth...</td>\n",
       "      <td>NF</td>\n",
       "    </tr>\n",
       "    <tr>\n",
       "      <th>2</th>\n",
       "      <td>projected data must readable 10x10 projection ...</td>\n",
       "      <td>NF</td>\n",
       "    </tr>\n",
       "    <tr>\n",
       "      <th>3</th>\n",
       "      <td>product shall available normal business hours ...</td>\n",
       "      <td>NF</td>\n",
       "    </tr>\n",
       "    <tr>\n",
       "      <th>4</th>\n",
       "      <td>projected data must understandable 10x10 proje...</td>\n",
       "      <td>NF</td>\n",
       "    </tr>\n",
       "    <tr>\n",
       "      <th>5</th>\n",
       "      <td>product shall ensure accessed authorized users...</td>\n",
       "      <td>NF</td>\n",
       "    </tr>\n",
       "    <tr>\n",
       "      <th>6</th>\n",
       "      <td>product shall intuitive selfexplanatory  90 pe...</td>\n",
       "      <td>NF</td>\n",
       "    </tr>\n",
       "    <tr>\n",
       "      <th>7</th>\n",
       "      <td>product shall respond fast keep uptodate data ...</td>\n",
       "      <td>NF</td>\n",
       "    </tr>\n",
       "    <tr>\n",
       "      <th>8</th>\n",
       "      <td>system shall mdi form allows viewing graph dat...</td>\n",
       "      <td>F</td>\n",
       "    </tr>\n",
       "    <tr>\n",
       "      <th>9</th>\n",
       "      <td>system shall display events vertical table time</td>\n",
       "      <td>F</td>\n",
       "    </tr>\n",
       "    <tr>\n",
       "      <th>10</th>\n",
       "      <td>system shall display events graph time</td>\n",
       "      <td>F</td>\n",
       "    </tr>\n",
       "    <tr>\n",
       "      <th>11</th>\n",
       "      <td>system shall display events activities</td>\n",
       "      <td>F</td>\n",
       "    </tr>\n",
       "    <tr>\n",
       "      <th>12</th>\n",
       "      <td>display shall two regions left 23 display grap...</td>\n",
       "      <td>F</td>\n",
       "    </tr>\n",
       "    <tr>\n",
       "      <th>13</th>\n",
       "      <td>data displayed nodes within graph rows table m...</td>\n",
       "      <td>F</td>\n",
       "    </tr>\n",
       "    <tr>\n",
       "      <th>14</th>\n",
       "      <td>table side display shall split 2 regions seque...</td>\n",
       "      <td>F</td>\n",
       "    </tr>\n",
       "    <tr>\n",
       "      <th>15</th>\n",
       "      <td>top 14 table hold events occur sequentially</td>\n",
       "      <td>F</td>\n",
       "    </tr>\n",
       "    <tr>\n",
       "      <th>16</th>\n",
       "      <td>bottom 34 table hold events occur according re...</td>\n",
       "      <td>F</td>\n",
       "    </tr>\n",
       "    <tr>\n",
       "      <th>17</th>\n",
       "      <td>system shall color code events according varia...</td>\n",
       "      <td>F</td>\n",
       "    </tr>\n",
       "    <tr>\n",
       "      <th>18</th>\n",
       "      <td>system shall display data sync matrix 10 exerc...</td>\n",
       "      <td>F</td>\n",
       "    </tr>\n",
       "    <tr>\n",
       "      <th>19</th>\n",
       "      <td>system shall link events back either sync matr...</td>\n",
       "      <td>F</td>\n",
       "    </tr>\n",
       "  </tbody>\n",
       "</table>\n",
       "</div>"
      ],
      "text/plain": [
       "                                                INPUT TYPE\n",
       "0       system shall refresh display every 60 seconds   NF\n",
       "1   application shall match color schema set forth...   NF\n",
       "2   projected data must readable 10x10 projection ...   NF\n",
       "3   product shall available normal business hours ...   NF\n",
       "4   projected data must understandable 10x10 proje...   NF\n",
       "5   product shall ensure accessed authorized users...   NF\n",
       "6   product shall intuitive selfexplanatory  90 pe...   NF\n",
       "7   product shall respond fast keep uptodate data ...   NF\n",
       "8   system shall mdi form allows viewing graph dat...    F\n",
       "9     system shall display events vertical table time    F\n",
       "10             system shall display events graph time    F\n",
       "11             system shall display events activities    F\n",
       "12  display shall two regions left 23 display grap...    F\n",
       "13  data displayed nodes within graph rows table m...    F\n",
       "14  table side display shall split 2 regions seque...    F\n",
       "15        top 14 table hold events occur sequentially    F\n",
       "16  bottom 34 table hold events occur according re...    F\n",
       "17  system shall color code events according varia...    F\n",
       "18  system shall display data sync matrix 10 exerc...    F\n",
       "19  system shall link events back either sync matr...    F"
      ]
     },
     "execution_count": 7,
     "metadata": {},
     "output_type": "execute_result"
    }
   ],
   "source": [
    "import string\n",
    "\n",
    "# Replacing percent symbol to string\n",
    "df['INPUT'] = df['INPUT'].str.replace('%', ' percent')\n",
    "\n",
    "# Remove punctuation from a specific column (e.g., 'Column1')\n",
    "df['INPUT'] = df['INPUT'].apply(lambda x: x.translate(str.maketrans('', '', string.punctuation)) if isinstance(x, str) else x)\n",
    "\n",
    "df.head(20)"
   ]
  },
  {
   "cell_type": "markdown",
   "metadata": {},
   "source": [
    "<h3>Dataset Proportion</h3>"
   ]
  },
  {
   "cell_type": "code",
   "execution_count": 8,
   "metadata": {},
   "outputs": [
    {
     "name": "stdout",
     "output_type": "stream",
     "text": [
      "Number of Functional (F) requirements: 255\n",
      "Number of Non-Functional (NF) requirements: 370\n"
     ]
    }
   ],
   "source": [
    "# Count the number of F and NF in the dataset\n",
    "label_counts = df['TYPE'].value_counts()\n",
    "\n",
    "print(\"Number of Functional (F) requirements:\", label_counts.get('F', 0))\n",
    "print(\"Number of Non-Functional (NF) requirements:\", label_counts.get('NF', 0))"
   ]
  },
  {
   "cell_type": "code",
   "execution_count": 9,
   "metadata": {},
   "outputs": [
    {
     "data": {
      "image/png": "[encoded data removed]",
      "text/plain": [
       "<Figure size 640x480 with 1 Axes>"
      ]
     },
     "metadata": {},
     "output_type": "display_data"
    }
   ],
   "source": [
    "import matplotlib.pyplot as plt\n",
    "\n",
    "# Plot a bar chart of label distribution\n",
    "label_counts.plot(kind='bar', color=['blue', 'green'])\n",
    "plt.title(\"Label Distribution\")\n",
    "plt.xlabel(\"Requirement Type\")\n",
    "plt.ylabel(\"Count\")\n",
    "plt.xticks(rotation=0)\n",
    "plt.show()"
   ]
  },
  {
   "cell_type": "markdown",
   "metadata": {},
   "source": [
    "<h2>SBERT Fitting<h2>"
   ]
  },
  {
   "cell_type": "markdown",
   "metadata": {},
   "source": [
    "<h3>Label Descriptions</h3>"
   ]
  },
  {
   "cell_type": "code",
   "execution_count": 11,
   "metadata": {},
   "outputs": [],
   "source": [
    "label_descriptions = {\n",
    "    \"functional\": {\n",
    "        \"Represents a specific behavior or feature that the system is required to perform.\",\n",
    "        \"Describes actions the software must execute to fulfill business processes or user needs.\",\n",
    "        \"Defines explicit functionalities that contribute directly to achieving system objectives.\",\n",
    "        \"Focuses on 'what' the system does, including data processing, computations, and workflows.\",\n",
    "        \"Specifies system features that interact with users, data, or external systems to deliver value.\",\n",
    "        \"Describes user-requested tasks or operations that align with the intended application scope.\",\n",
    "        \"Outlines step-by-step actions or features essential for completing user tasks or business goals.\"\n",
    "    },\n",
    "    \"non_functional\": {\n",
    "        \"Defines the standards and conditions under which the system operates to ensure quality.\",\n",
    "        \"Specifies criteria such as performance, security, and usability that guide system operations.\",\n",
    "        \"Focuses on 'how' the system performs its tasks, including efficiency and reliability constraints.\",\n",
    "        \"Outlines measurable attributes like scalability, availability, and maintainability.\",\n",
    "        \"Describes system properties that ensure operational consistency and user satisfaction.\",\n",
    "        \"States operational benchmarks for system behavior, such as latency, error tolerance, or throughput.\",\n",
    "        \"Defines quality-of-service metrics and compliance standards the system must achieve.\"\n",
    "    }\n",
    "}"
   ]
  },
  {
   "cell_type": "markdown",
   "metadata": {},
   "source": [
    "<h3>SBERT Label Embeddings</h3>"
   ]
  },
  {
   "cell_type": "code",
   "execution_count": 13,
   "metadata": {},
   "outputs": [
    {
     "name": "stdout",
     "output_type": "stream",
     "text": [
      "Mean intra-label cosine similarity for functional: 0.5928\n",
      "Mean intra-label cosine similarity for non_functional: 0.5800\n",
      "\n",
      "Cosine similarity between SBERT functional and non-functional embeddings: 0.7317\n"
     ]
    }
   ],
   "source": [
    "import torch\n",
    "import torch.nn.functional as F\n",
    "from sklearn.metrics.pairwise import cosine_similarity\n",
    "\n",
    "device = torch.device(\"cuda\" if torch.cuda.is_available() else \"cpu\")\n",
    "\n",
    "# Compute SBERT embeddings for each label description\n",
    "sbert_label_embeddings = {\n",
    "    label: [sbert.encode(desc, convert_to_tensor=True).to(device) for desc in descriptions]\n",
    "    for label, descriptions in label_descriptions.items()\n",
    "}\n",
    "\n",
    "# Calculate intra-label cosine similarities\n",
    "intra_label_similarity = {}\n",
    "\n",
    "for label, embeddings in sbert_label_embeddings.items():\n",
    "    # Convert embeddings to numpy arrays\n",
    "    embeddings_np = [embedding.detach().cpu().numpy() for embedding in embeddings]\n",
    "    \n",
    "    # Compute pairwise cosine similarities\n",
    "    pairwise_sim = cosine_similarity(embeddings_np)\n",
    "    \n",
    "    # Extract the upper triangle of the similarity matrix (excluding diagonal)\n",
    "    upper_triangle = pairwise_sim[np.triu_indices_from(pairwise_sim, k=1)]\n",
    "    \n",
    "    # Compute the mean similarity for the label\n",
    "    intra_label_similarity[label] = upper_triangle.mean()\n",
    "\n",
    "    print(f\"Mean intra-label cosine similarity for {label}: {intra_label_similarity[label]:.4f}\")\n",
    "\n",
    "# Compute inter-label cosine similarity (F vs NF)\n",
    "# Compute inter-label cosine similarity (functional vs non-functional)\n",
    "f_embedding = torch.stack(sbert_label_embeddings[\"functional\"]).mean(dim=0).detach().cpu().numpy()\n",
    "nf_embedding = torch.stack(sbert_label_embeddings[\"non_functional\"]).mean(dim=0).detach().cpu().numpy()\n",
    "cos_sim_inter = cosine_similarity([f_embedding], [nf_embedding])[0][0]\n",
    "\n",
    "print(f\"\\nCosine similarity between SBERT functional and non-functional embeddings: {cos_sim_inter:.4f}\")"
   ]
  },
  {
   "cell_type": "markdown",
   "metadata": {},
   "source": [
    "<h3>SBERT Requirements Embeddings<h3>"
   ]
  },
  {
   "cell_type": "code",
   "execution_count": 15,
   "metadata": {},
   "outputs": [],
   "source": [
    "# Compute embeddings for the requirements\n",
    "requirement_embeddings = [\n",
    "    sbert.encode(requirement, convert_to_tensor=True).detach().cpu().numpy()\n",
    "    for requirement in df['INPUT']\n",
    "]"
   ]
  },
  {
   "cell_type": "markdown",
   "metadata": {},
   "source": [
    "<h2>Model Evaluation<h2>"
   ]
  },
  {
   "cell_type": "code",
   "execution_count": 17,
   "metadata": {},
   "outputs": [
    {
     "name": "stderr",
     "output_type": "stream",
     "text": [
      "/tmp/ipykernel_64106/2520218575.py:6: UserWarning: To copy construct from a tensor, it is recommended to use sourceTensor.clone().detach() or sourceTensor.clone().detach().requires_grad_(True), rather than torch.tensor(sourceTensor).\n",
      "  vec2 = torch.tensor(vec2, dtype=torch.float32)\n"
     ]
    },
    {
     "name": "stdout",
     "output_type": "stream",
     "text": [
      "              precision    recall  f1-score   support\n",
      "\n",
      "           F       0.52      0.57      0.54       255\n",
      "          NF       0.68      0.63      0.66       370\n",
      "\n",
      "    accuracy                           0.61       625\n",
      "   macro avg       0.60      0.60      0.60       625\n",
      "weighted avg       0.62      0.61      0.61       625\n",
      "\n"
     ]
    }
   ],
   "source": [
    "from sklearn.metrics import classification_report\n",
    "\n",
    "# Function to calculate cosine similarity\n",
    "def cosine_similarity_single(vec1, vec2):\n",
    "    vec1 = torch.tensor(vec1, dtype=torch.float32)\n",
    "    vec2 = torch.tensor(vec2, dtype=torch.float32)\n",
    "    return torch.nn.functional.cosine_similarity(vec1, vec2, dim=0).item()\n",
    "\n",
    "# Compute predictions based on cosine similarity\n",
    "predicted_labels = []\n",
    "for req_embedding in requirement_embeddings:\n",
    "    # Calculate similarity with functional and non-functional label embeddings\n",
    "    functional_sim = np.mean([cosine_similarity_single(req_embedding, label_emb) \n",
    "                              for label_emb in sbert_label_embeddings[\"functional\"]])\n",
    "    non_functional_sim = np.mean([cosine_similarity_single(req_embedding, label_emb) \n",
    "                                  for label_emb in sbert_label_embeddings[\"non_functional\"]])\n",
    "\n",
    "    # Assign the label with the highest similarity\n",
    "    predicted_labels.append(\"F\" if functional_sim > non_functional_sim else \"NF\")\n",
    "\n",
    "# Add predictions to the DataFrame\n",
    "df['Predicted_Label'] = predicted_labels\n",
    "\n",
    "# Generate classification report\n",
    "report = classification_report(df['TYPE'], df['Predicted_Label'], target_names=[\"F\", \"NF\"])\n",
    "print(report)"
   ]
  }
 ],
 "metadata": {
  "kernelspec": {
   "display_name": ".venv",
   "language": "python",
   "name": "python3"
  },
  "language_info": {
   "codemirror_mode": {
    "name": "ipython",
    "version": 3
   },
   "file_extension": ".py",
   "mimetype": "text/x-python",
   "name": "python",
   "nbconvert_exporter": "python",
   "pygments_lexer": "ipython3",
   "version": "3.12.1"
  }
 },
 "nbformat": 4,
 "nbformat_minor": 2
}
